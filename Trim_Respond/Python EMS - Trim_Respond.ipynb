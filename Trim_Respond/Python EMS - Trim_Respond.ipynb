{
 "cells": [
  {
   "cell_type": "code",
   "execution_count": 31,
   "id": "a1236fb1",
   "metadata": {},
   "outputs": [],
   "source": [
    "%matplotlib qt\n",
    "import numpy as np\n",
    "import matplotlib\n",
    "from matplotlib import pyplot as plt\n",
    "import pandas as pd\n",
    "import random\n",
    "import scipy\n",
    "import sklearn\n",
    "import sys\n",
    "import datetime as dt\n",
    "import math\n",
    "import seaborn as sns\n",
    "import os\n",
    "import matplotlib.dates as mdates"
   ]
  },
  {
   "cell_type": "code",
   "execution_count": 5,
   "id": "615b5cb9",
   "metadata": {},
   "outputs": [],
   "source": [
    "# initialize the DLC parameters\n",
    "# initializer_coeff_precond = 0 # preconditioning parameter multipliers\n",
    "# initializer_coeff_sb_su = 0 # setup/setback parameter multipliers\n",
    "\n",
    "def my_callback_function(state):\n",
    "    global ph_mag,ph_dur,sb_mag, pc1_mag, pc1_dur, su1_mag, pc2_mag, pc2_dur, su2_mag\n",
    "    global low_limit, high_limit,trim_respond,hot_complaint,cold_complaint,hsp,csp\n",
    "    if api.exchange.warmup_flag(state):\n",
    "        return\n",
    "    envNum = api.exchange.current_environment_num(state)\n",
    "    if envNum == 3: # if sizing done\n",
    "        tSetHtg_hndl = api.exchange.get_actuator_handle(state, \"Schedule:Constant\", \"Schedule Value\", \"tSetHtg\")\n",
    "        tSetClg_hndl = api.exchange.get_actuator_handle(state, \"Schedule:Constant\", \"Schedule Value\", \"tSetClg\")\n",
    "        elect_hndl = api.exchange.get_meter_handle(state,\"Electricity:Facility\")\n",
    "        htg_hndl = api.exchange.get_meter_handle(state,\"Heating:Electricity\")\n",
    "        clg_hndl = api.exchange.get_meter_handle(state,\"Cooling:Electricity\")\n",
    "        tIn_office_hndl = api.exchange.get_variable_handle(state,\"Zone Mean Air Temperature\",\"Office\")\n",
    "        tIn_lobby_hndl = api.exchange.get_variable_handle(state,\"Zone Mean Air Temperature\",\"Lobby\")\n",
    "\n",
    "        # exchange information with EnergyPlus\n",
    "        meter_reading = api.exchange.get_meter_value(state,elect_hndl)\n",
    "        heating_meter_reading = api.exchange.get_meter_value(state,htg_hndl)\n",
    "        cooling_meter_reading = api.exchange.get_meter_value(state,clg_hndl)\n",
    "        tIn_office = api.exchange.get_variable_value(state,tIn_office_hndl)\n",
    "        tIn_lobby = api.exchange.get_variable_value(state,tIn_lobby_hndl)\n",
    "        month = api.exchange.month(state) \n",
    "        time_of_day = api.exchange.current_time(state)\n",
    "        day_of_week = api.exchange.day_of_week(state)\n",
    "        day_of_month = api.exchange.day_of_month(state)\n",
    "        day_of_year = api.exchange.day_of_year(state)\n",
    "\n",
    "        ## occupant complaint model\n",
    "        cold_complaint = 0\n",
    "        hot_complaint = 0 \n",
    "        if (time_of_day > 8) and (time_of_day < 17) and (day_of_week > 1): # occupied periods\n",
    "            if (tIn_office < low_limit-0.1) or (tIn_lobby < low_limit-0.1):\n",
    "                cold_complaint = 1\n",
    "            elif (tIn_office > high_limit+0.1) or (tIn_lobby > high_limit+0.1):\n",
    "                hot_complaint = 1\n",
    "        \n",
    "        ## actuate DLC parameters\n",
    "        api.exchange.set_actuator_value(state, tSetHtg_hndl, 18)\n",
    "        api.exchange.set_actuator_value(state, tSetClg_hndl, 27)\n",
    "        \n",
    "        hsp = 18\n",
    "        csp = 27\n",
    "\n",
    "        # bank operates on weekdays and on Saturdays\n",
    "        if (day_of_week > 1):\n",
    "            if (time_of_day > 7 and time_of_day < 17):\n",
    "                api.exchange.set_actuator_value(state, tSetHtg_hndl, 21)\n",
    "                api.exchange.set_actuator_value(state, tSetClg_hndl, 24)\n",
    "                hsp = 21\n",
    "                csp = 24\n",
    "        \n",
    "        # time of use rates apply to weekdays only\n",
    "        if ((month > 10) or (month < 5)) and (day_of_week > 1 and day_of_week < 7):\n",
    "            if (time_of_day > 7 - ph_dur) and (time_of_day < 7): # preheat winter off-peak\n",
    "                api.exchange.set_actuator_value(state, tSetHtg_hndl, 18 + ph_mag)\n",
    "                hsp = 18 + ph_mag\n",
    "            if (time_of_day >= 7) and (time_of_day < 11): # setback winter on-peak\n",
    "                api.exchange.set_actuator_value(state, tSetHtg_hndl, 21 - sb_mag)\n",
    "                hsp = 21 - sb_mag\n",
    "  \n",
    "        if ((month > 4) and (month < 11)) and (day_of_week > 1 and day_of_week < 7):\n",
    "            if (time_of_day > 7 - pc1_dur) and (time_of_day < 7): # precool summer off-peak\n",
    "                api.exchange.set_actuator_value(state, tSetClg_hndl, 27 - pc1_mag)\n",
    "                csp = 27 - pc1_mag\n",
    "            if (time_of_day >= 7) and (time_of_day < 11 - pc2_dur): # setup summer mid-peak\n",
    "                api.exchange.set_actuator_value(state, tSetClg_hndl, 24 + su1_mag)\n",
    "                csp = 24 + su1_mag\n",
    "            if (time_of_day >= 11 - pc2_dur) and (time_of_day < 11): # precool summer mid-peak\n",
    "                api.exchange.set_actuator_value(state, tSetClg_hndl, 24 - pc2_mag)\n",
    "                csp = 24 - pc2_mag\n",
    "            if (time_of_day >= 11) and (time_of_day <= 17): # setup summer on-peak\n",
    "                api.exchange.set_actuator_value(state, tSetClg_hndl, 24 + su2_mag)\n",
    "                csp = 24 + su2_mag\n",
    "\n",
    "        \n",
    "        # rate calculator\n",
    "        cost = ((heating_meter_reading + cooling_meter_reading)/1000000*0.278)*8.7/100\n",
    "        if ((month > 10) or (month < 5)) and (day_of_week > 1 and day_of_week < 7):\n",
    "            if (time_of_day > 7) and (time_of_day <= 11):\n",
    "                cost = ((heating_meter_reading + cooling_meter_reading)/1000000*0.278)*18.2/100\n",
    "            elif (time_of_day > 11) and (time_of_day <= 17):\n",
    "                cost = ((heating_meter_reading + cooling_meter_reading)/1000000*0.278)*12.2/100\n",
    "            elif (time_of_day > 17) and (time_of_day < 19): \n",
    "                cost = ((heating_meter_reading + cooling_meter_reading)/1000000*0.278)*18.2/100\n",
    "        \n",
    "        if ((month > 4) and (month < 11)) and (day_of_week > 1 and day_of_week < 7):\n",
    "            if (time_of_day > 7) and (time_of_day <= 11):\n",
    "                cost = ((heating_meter_reading + cooling_meter_reading)/1000000*0.278)*12.2/100\n",
    "            elif (time_of_day > 11) and (time_of_day <= 17):\n",
    "                cost = ((heating_meter_reading + cooling_meter_reading)/1000000*0.278)*18.2/100\n",
    "            elif (time_of_day > 17) and (time_of_day < 19): \n",
    "                cost = ((heating_meter_reading + cooling_meter_reading)/1000000*0.278)*12.2/100\n",
    "        \n",
    "        if trim_respond == 1:\n",
    "            if ((month > 10) or (month < 5)) and (day_of_week > 1 and day_of_week < 7):\n",
    "                if (cold_complaint == 0): # no cold complaint\n",
    "                    # DLC is unnecessarily aggressive\n",
    "                    if ((tIn_office - (21 - sb_mag)) >= 0.5) and ((tIn_lobby - (21 - sb_mag)) >= 0.5) and (time_of_day > 10.9 and time_of_day < 11.1): # postmature and no complaint\n",
    "                        ph_dur = min(max(ph_dur - 0.1,0),3)\n",
    "                        ph_mag = min(max(ph_mag - 0.1,0),6)\n",
    "                        sb_mag = min(max(sb_mag - 0.1,0),3)\n",
    "                    # DLC is not aggressive enough\n",
    "                    elif (((tIn_office - (21 - sb_mag)) < 0.2) or ((tIn_lobby - (21 - sb_mag)) < 0.2)) and (time_of_day > 10.9 and time_of_day < 11.1): # premature and no complaint\n",
    "                        ph_dur = min(max(ph_dur + 0.1,0),3)\n",
    "                        ph_mag = min(max(ph_mag + 0.1,0),6)\n",
    "                        sb_mag = min(max(sb_mag + 0.1,0),3)\n",
    "                else: # cold complaint\n",
    "                    ph_dur = min(max(ph_dur + 0.1,0),3)\n",
    "                    ph_mag = min(max(ph_mag + 0.1,0),6)\n",
    "                    sb_mag = min(max(sb_mag - 0.2,0),3)\n",
    "\n",
    "            if ((month > 4) and (month < 11)) and (day_of_week > 1 and day_of_week < 7):\n",
    "                if (hot_complaint == 0): # no hot complaint\n",
    "                    # DLC is unnecessarily aggressive\n",
    "                    if ((tIn_office - (24 + su1_mag)) <= -0.5) and ((tIn_lobby - (24 + su1_mag)) <= -0.5) and (time_of_day > 10.9 - pc2_dur and time_of_day < 11.1 - pc2_dur): # postmature and no complaint\n",
    "                        pc1_dur = min(max(pc1_dur - 0.1,0),3)\n",
    "                        pc1_mag = min(max(pc1_mag - 0.1,0),6)\n",
    "                        su1_mag = min(max(su1_mag - 0.1,0),3)\n",
    "                    # DLC is not aggressive enough\n",
    "                    elif (((tIn_office - (24 + su1_mag)) > -0.2) or ((tIn_lobby - (24 + su1_mag)) > -0.2)) and (time_of_day > 10.9 - pc2_dur and time_of_day < 11.1 - pc2_dur): # premature and no complaint\n",
    "                        pc1_dur = min(max(pc1_dur + 0.1,0),3)\n",
    "                        pc1_mag = min(max(pc1_mag + 0.1,0),6)\n",
    "                        su1_mag = min(max(su1_mag + 0.1,0),3)\n",
    "                else: # hot complaint\n",
    "                    pc1_dur = min(max(pc1_dur + 0.1,0),3)\n",
    "                    pc1_mag = min(max(pc1_mag + 0.1,0),6)\n",
    "                    su1_mag = min(max(su1_mag - 0.2,0),3)                \n",
    "\n",
    "            if ((month > 4) and (month < 11)) and (day_of_week > 1 and day_of_week < 7):\n",
    "                if (hot_complaint == 0) and (cold_complaint == 0): # no hot complaint\n",
    "                    if ((tIn_office - (24 + su2_mag)) <= -0.5) and ((tIn_lobby - (24 + su2_mag)) <= -0.5) and (time_of_day > 16.9 and time_of_day < 17.1): # postmature and no complaint\n",
    "                        pc2_dur = min(max(pc2_dur - 0.1,0),3)\n",
    "                        pc2_mag = min(max(pc2_mag - 0.1,0),3)\n",
    "                        su2_mag = min(max(su2_mag - 0.1,0),3)\n",
    "                    elif (((tIn_office - (24 + su2_mag)) > -0.2) or ((tIn_lobby - (24 + su2_mag)) > -0.2)) and (time_of_day > 16.9 and time_of_day < 17.1): # premature and no complaint\n",
    "                        pc2_dur = min(max(pc2_dur + 0.1,0),3)\n",
    "                        pc2_mag = min(max(pc2_mag + 0.1,0),3)\n",
    "                        su2_mag = min(max(su2_mag + 0.1,0),3)             \n",
    "                elif (cold_complaint == 1): # reduce precooling\n",
    "                    pc2_dur = min(max(pc2_dur - 0.1,0),3)\n",
    "                    pc2_mag = min(max(pc2_mag - 0.2,0),3)\n",
    "                elif (hot_complaint == 1): # increase precooling and reduce setup\n",
    "                    pc2_dur = min(max(pc2_dur + 0.1,0),3)\n",
    "                    pc2_mag = min(max(pc2_mag + 0.1,0),3)\n",
    "                    su2_mag = min(max(su2_mag - 0.2,0),3)\n",
    "        \n",
    "        x = [ph_dur,ph_mag,sb_mag,pc1_dur,pc1_mag,su1_mag,pc2_dur,pc2_mag,su2_mag]\n",
    "        diagnostic.append([ph_dur,ph_mag,sb_mag,pc1_dur,pc1_mag,su1_mag,pc2_dur,pc2_mag,su2_mag, cost, tIn_office,tIn_lobby,hsp,csp,time_of_day,day_of_week,hot_complaint,cold_complaint])\n",
    "        "
   ]
  },
  {
   "cell_type": "code",
   "execution_count": 6,
   "id": "377f3ea6",
   "metadata": {},
   "outputs": [],
   "source": [
    "sys.path.insert(0, 'C:\\EnergyPlusV23-1-0')  # add E-Plus directory to path to be able to import API\n",
    "from pyenergyplus.api import EnergyPlusAPI #import EnergyPlus library\n",
    "api = EnergyPlusAPI()\n",
    "\n",
    "scenarios_info = pd.read_excel('scenarios_def_TR.xlsx')\n",
    "active_cases = scenarios_info[scenarios_info.active == 1]\n",
    "\n",
    "for i, row in active_cases.iterrows():\n",
    "    diagnostic = []\n",
    "    idf_file = \"Models_heatpump/\"+row.idf_file\n",
    "    epw_file = row.epw_file\n",
    "    output_dir = \"Results_TR/Scenario_{}\".format(row.ID)\n",
    "    offset_x = eval(row.offset_x)\n",
    "    offset_y = eval(row.offset_y)\n",
    "    \n",
    "    ph_mag = offset_x[0]\n",
    "    ph_dur = offset_x[1]\n",
    "    sb_mag = offset_x[2]\n",
    "\n",
    "    pc1_mag = offset_y[0]\n",
    "    pc1_dur = offset_y[1]\n",
    "    su1_mag = offset_y[2]\n",
    "\n",
    "    pc2_mag = offset_y[3]\n",
    "    pc2_dur = offset_y[4]\n",
    "    su2_mag = offset_y[5]\n",
    "\n",
    "    trim_respond = row.TR # DLC parameter updates if set to one, else no update\n",
    "    \n",
    "    [low_limit, high_limit] = eval(row.comfort_range)\n",
    "    \n",
    "    state = api.state_manager.new_state() \n",
    "    api.runtime.callback_begin_system_timestep_before_predictor(state,my_callback_function)\n",
    "    # -x short form to run expandobjects for HVACtemplates. see EnergyPlusEssentials.pdf p16\n",
    "    cmd_args = ['-w',epw_file, '-d', output_dir,'-x',idf_file]\n",
    "    api.runtime.run_energyplus(state,cmd_args)\n",
    "    api.state_manager.delete_state(state)\n",
    "    \n",
    "    column_names=['ph_dur','ph_mag','sb_mag','pc1_dur','pc1_mag','su1_mag','pc2_dur','pc2_mag','su2_mag',\\\n",
    "             'cost','tIn_office','tIn_lobby','hsp','csp','time','day','hot_complaint','cold_complaint']\n",
    "    df = pd.DataFrame(data = diagnostic, columns=column_names)\n",
    "    df.to_csv(output_dir+\"/diagnostic.csv\")\n",
    "    "
   ]
  },
  {
   "cell_type": "markdown",
   "id": "a39c6c97",
   "metadata": {},
   "source": [
    "# Plot results"
   ]
  },
  {
   "cell_type": "code",
   "execution_count": 32,
   "id": "79239427",
   "metadata": {},
   "outputs": [
    {
     "name": "stdout",
     "output_type": "stream",
     "text": [
      "1349.2167730600563\n",
      "41\n"
     ]
    }
   ],
   "source": [
    "case_no = 8\n",
    "time_range = pd.date_range(start='2019-01-01 00:15:00', end='2020-1-1 00:00:00', freq='15T')\n",
    "df = pd.read_csv(\"Results_TR/Scenario_{}/diagnostic.csv\".format(case_no))\n",
    "df[\"timestamp\"] = time_range\n",
    "plt.plot(df['su2_mag'])\n",
    "print(sum(df[\"cost\"]))\n",
    "print(sum(df['hot_complaint'])+sum(df['cold_complaint']))"
   ]
  },
  {
   "cell_type": "code",
   "execution_count": 48,
   "id": "d609b98a",
   "metadata": {},
   "outputs": [
    {
     "data": {
      "text/plain": [
       "Text(0.5, 1.0, 'Jan 29th')"
      ]
     },
     "execution_count": 48,
     "metadata": {},
     "output_type": "execute_result"
    }
   ],
   "source": [
    "fig, ax1 = plt.subplots()\n",
    "ax2 = ax1.twinx()\n",
    "ax1.plot(df['timestamp'],df['hsp'],'k:', label='Heating SP')\n",
    "ax1.plot(df['timestamp'],df['csp'],'k:', label='Cooling SP')\n",
    "ax1.plot(df['timestamp'],df['tIn_office'],'k', label='Office temp')\n",
    "ax1.plot(df['timestamp'],df['tIn_lobby'],'k', label='Lobby temp')\n",
    "ax2.plot(df['timestamp'],df[\"cost\"],'r', label='Cost')\n",
    "ax2.scatter(df['timestamp'],df['cold_complaint'],s =20, c = 'b', label='Complaints')\n",
    "month = 1\n",
    "day = 29\n",
    "ax1.set_xlim([dt.datetime(2019, month, day, 4, 0, 0), dt.datetime(2019, month, day, 20, 0, 0)])\n",
    "myFmt = mdates.DateFormatter('%H:%M')\n",
    "ax1.xaxis.set_major_formatter(myFmt)\n",
    "ax1.set_xlabel('time of day (h)')\n",
    "ax1.set_ylabel('Temperature (degC)', color='k')\n",
    "ax2.set_ylabel('Electricity cost ($/15-min)', color='r');\n",
    "# legend\n",
    "lines, labels = ax1.get_legend_handles_labels()\n",
    "lines2, labels2 = ax2.get_legend_handles_labels()\n",
    "ax2.legend(lines + lines2, labels + labels2, ncol=3)\n",
    "ax1.set_title(\"Jan 29th\")"
   ]
  },
  {
   "cell_type": "code",
   "execution_count": 49,
   "id": "5ce7acc4",
   "metadata": {},
   "outputs": [
    {
     "data": {
      "text/plain": [
       "Text(0.5, 1.0, 'Aug 7th')"
      ]
     },
     "execution_count": 49,
     "metadata": {},
     "output_type": "execute_result"
    }
   ],
   "source": [
    "fig, ax1 = plt.subplots()\n",
    "ax2 = ax1.twinx()\n",
    "ax1.plot(df['timestamp'],df['hsp'],'k:', label='Heating SP')\n",
    "ax1.plot(df['timestamp'],df['csp'],'k:', label='Cooling SP')\n",
    "ax1.plot(df['timestamp'],df['tIn_office'],'k', label='Office temp')\n",
    "ax1.plot(df['timestamp'],df['tIn_lobby'],'k', label='Lobby temp')\n",
    "ax2.plot(df['timestamp'],df[\"cost\"],'r', label='Cost')\n",
    "ax2.scatter(df['timestamp'],df['cold_complaint'],s =20, c = 'b', label='Complaints')\n",
    "month = 8\n",
    "day = 7\n",
    "ax1.set_xlim([dt.datetime(2019, month, day, 4, 0, 0), dt.datetime(2019, month, day, 20, 0, 0)])\n",
    "myFmt = mdates.DateFormatter('%H:%M')\n",
    "ax1.xaxis.set_major_formatter(myFmt)\n",
    "ax1.set_xlabel('time of day (h)')\n",
    "ax1.set_ylabel('Temperature (degC)', color='k')\n",
    "ax2.set_ylabel('Electricity cost ($/15-min)', color='r');\n",
    "# legend\n",
    "lines, labels = ax1.get_legend_handles_labels()\n",
    "lines2, labels2 = ax2.get_legend_handles_labels()\n",
    "ax2.legend(lines + lines2, labels + labels2, ncol=3)\n",
    "ax1.set_title(\"Aug 7th\")"
   ]
  },
  {
   "cell_type": "code",
   "execution_count": null,
   "id": "d4b83c19",
   "metadata": {},
   "outputs": [],
   "source": [
    "df2 = pd.DataFrame(data = diagnostic, columns=['tIn_office','tIn_lobby','hsp','csp','time','day','hot_complaint','cold_complaint'])\n",
    "print(sum(electricity))\n",
    "print(sum(df2['hot_complaint'])+sum(df2['cold_complaint']))\n",
    "df = pd.DataFrame(data = store, columns=['ph_dur','ph_mag','sb_mag','pc1_dur','pc1_mag','su1_mag','pc2_dur','pc2_mag','su2_mag'])\n",
    "plt.plot(df['sb_mag'])\n",
    "                   "
   ]
  },
  {
   "cell_type": "markdown",
   "id": "f672bd36",
   "metadata": {},
   "source": [
    "# DLC scatter "
   ]
  },
  {
   "cell_type": "code",
   "execution_count": 53,
   "id": "dcc4a2e3",
   "metadata": {},
   "outputs": [],
   "source": [
    "scenarios_info = pd.read_excel('scenarios_def_TR.xlsx')\n",
    "fig, ax = plt.subplots(2, 4, figsize=(15,10))\n",
    "cases = [r'[0,0,0]', r'[2,1,1]', r'[4,2,2]', r'[6,3,3]',r'[0,0,1]',r'[0,0,2]',r'[0,0,3]']\n",
    "labels = [\"no DLC\", \"DLC1\", \"DLC2\", \"DLC3\", \"DLC4\", \"DLC5\", \"DLC6\", \"TR\"]\n",
    "for j in range(8):\n",
    "    if j < 7:\n",
    "        TR_cases = scenarios_info.loc[(scenarios_info.TR == 0) & (scenarios_info.offset_x == cases[j])]\n",
    "    else:\n",
    "        TR_cases = scenarios_info.loc[(scenarios_info.TR == 1) ]\n",
    "    TR_cases.head()\n",
    "    scenarios = TR_cases.ID.values\n",
    "    scenarios\n",
    "    elect_cost = []\n",
    "    complaints = []\n",
    "    for i in scenarios:\n",
    "        df = pd.read_csv(\"Results_TR/Scenario_{}/diagnostic.csv\".format(i))\n",
    "\n",
    "        elect_cost.append(sum(df[\"cost\"]))\n",
    "        complaints.append(sum(df['hot_complaint'])+sum(df['cold_complaint']))\n",
    "    df_plot = pd.DataFrame([elect_cost, complaints]).transpose()\n",
    "    df_plot.columns=[\"cost\",\"complaints\"]\n",
    "\n",
    "    if j < 4:\n",
    "        sns.scatterplot(data=df_plot,x=\"cost\", y=\"complaints\", ax=ax[0][j])\\\n",
    "        .set(ylim=[0,6100],xlim=[900,3500],xlabel=None, title=labels[j])\n",
    "        \n",
    "    else:\n",
    "        sns.scatterplot(data=df_plot,x=\"cost\", y=\"complaints\", ax=ax[1][j-4])\\\n",
    "        .set(ylim=[0,6100],xlim=[900,3500], title=labels[j]) "
   ]
  },
  {
   "cell_type": "markdown",
   "id": "5cdf2915",
   "metadata": {},
   "source": [
    "# Save all results"
   ]
  },
  {
   "cell_type": "code",
   "execution_count": 7,
   "id": "2e9e094b",
   "metadata": {},
   "outputs": [
    {
     "name": "stdout",
     "output_type": "stream",
     "text": [
      "done\n"
     ]
    }
   ],
   "source": [
    "scenarios_info = pd.read_excel('scenarios_def_TR.xlsx')\n",
    "scenarios = scenarios_info.ID.values\n",
    "container = []\n",
    "for i in scenarios:\n",
    "        df = pd.read_csv(\"Results_TR/Scenario_{}/diagnostic.csv\".format(i))\n",
    "        container.append([i, sum(df[\"cost\"]), sum(df['hot_complaint'])+sum(df['cold_complaint'])])\n",
    "df = pd.DataFrame(container, columns=[\"ID\", \"cost\",\"complaints\"])\n",
    "df.to_csv(\"all_results.csv\")\n",
    "print(\"done\")"
   ]
  },
  {
   "cell_type": "markdown",
   "id": "8542573d",
   "metadata": {},
   "source": [
    "# scenarios boxplots \n",
    "boxes for scenarios, each box has 6 DLCs, 1 point for no dlc and one for TR"
   ]
  },
  {
   "cell_type": "code",
   "execution_count": 62,
   "id": "f005afd1",
   "metadata": {},
   "outputs": [
    {
     "data": {
      "text/plain": [
       "<matplotlib.legend.Legend at 0x2a5f91448e0>"
      ]
     },
     "execution_count": 62,
     "metadata": {},
     "output_type": "execute_result"
    }
   ],
   "source": [
    "df = pd.read_csv(\"all_results.csv\")\n",
    "df.head()\n",
    "\n",
    "container_base = []\n",
    "container_dlc1 = []\n",
    "container_dlc2 = []\n",
    "container_dlc3 = []\n",
    "container_dlc4 = []\n",
    "container_dlc5 = []\n",
    "container_dlc6 = []\n",
    "container_TR = []\n",
    "counter = 0\n",
    "for i in range(288):\n",
    "    idx = i%8\n",
    "    if idx == 0:   \n",
    "        container_base.append(df[\"cost\"][i])\n",
    "    elif idx == 1:\n",
    "        container_dlc1.append(df[\"cost\"][i])\n",
    "    elif idx == 2:\n",
    "        container_dlc2.append(df[\"cost\"][i])\n",
    "    elif idx == 3:\n",
    "        container_dlc3.append(df[\"cost\"][i])\n",
    "    elif idx == 4:\n",
    "        container_dlc4.append(df[\"cost\"][i])\n",
    "    elif idx == 5:\n",
    "        container_dlc5.append(df[\"cost\"][i])\n",
    "    elif idx == 6:\n",
    "        container_dlc6.append(df[\"cost\"][i])\n",
    "    elif idx == 7:   \n",
    "        container_TR.append(df[\"cost\"][i])\n",
    "\n",
    "a = np.arange(0,36)\n",
    "# plt.scatter(a, container_base)\n",
    "# plt.scatter(a, container_TR)\n",
    "df_dlc = pd.DataFrame([container_dlc1,container_dlc2,container_dlc3,container_dlc4,container_dlc5,container_dlc6])\n",
    "fig, ax = plt.subplots()\n",
    "sns.boxplot(df_dlc).set(ylabel=\"Cost [$]\", xlabel=\"Scenarios - envelopes, HVAC systems, occupant preferences\")\n",
    "sns.scatterplot(x = a, y = container_base, label=\"no DLC\")\n",
    "sns.scatterplot(x = a, y = container_TR, label= \"T&R\")\n",
    "ax.legend(loc=\"upper right\")\n"
   ]
  },
  {
   "cell_type": "code",
   "execution_count": 64,
   "id": "b8944460",
   "metadata": {},
   "outputs": [
    {
     "data": {
      "text/plain": [
       "<matplotlib.legend.Legend at 0x2a5a2959190>"
      ]
     },
     "execution_count": 64,
     "metadata": {},
     "output_type": "execute_result"
    }
   ],
   "source": [
    "df = pd.read_csv(\"all_results.csv\")\n",
    "df.head()\n",
    "\n",
    "container_base = []\n",
    "container_dlc1 = []\n",
    "container_dlc2 = []\n",
    "container_dlc3 = []\n",
    "container_dlc4 = []\n",
    "container_dlc5 = []\n",
    "container_dlc6 = []\n",
    "container_TR = []\n",
    "counter = 0\n",
    "for i in range(288):\n",
    "    idx = i%8\n",
    "    if idx == 0:   \n",
    "        container_base.append(df[\"complaints\"][i])\n",
    "    elif idx == 1:\n",
    "        container_dlc1.append(df[\"complaints\"][i])\n",
    "    elif idx == 2:\n",
    "        container_dlc2.append(df[\"complaints\"][i])\n",
    "    elif idx == 3:\n",
    "        container_dlc3.append(df[\"complaints\"][i])\n",
    "    elif idx == 4:\n",
    "        container_dlc4.append(df[\"complaints\"][i])\n",
    "    elif idx == 5:\n",
    "        container_dlc5.append(df[\"complaints\"][i])\n",
    "    elif idx == 6:\n",
    "        container_dlc6.append(df[\"complaints\"][i])\n",
    "    elif idx == 7:   \n",
    "        container_TR.append(df[\"complaints\"][i])\n",
    "\n",
    "a = np.arange(0,36)\n",
    "# plt.scatter(a, container_base)\n",
    "# plt.scatter(a, container_TR)\n",
    "df_dlc = pd.DataFrame([container_dlc1,container_dlc2,container_dlc3,container_dlc4,container_dlc5,container_dlc6])\n",
    "fig, ax = plt.subplots()\n",
    "sns.boxplot(df_dlc).set(ylabel=\"Complaints\", xlabel=\"Scenarios - envelopes, HVAC systems, occupant preferences\")\n",
    "sns.scatterplot(x = a, y = container_base, label=\"no DLC\")\n",
    "sns.scatterplot(x = a, y = container_TR, label= \"T&R\")\n",
    "ax.legend(loc=\"upper right\")"
   ]
  },
  {
   "cell_type": "markdown",
   "id": "2d04d47d",
   "metadata": {},
   "source": [
    "# Compare models"
   ]
  },
  {
   "cell_type": "code",
   "execution_count": 43,
   "id": "47f63df1",
   "metadata": {},
   "outputs": [
    {
     "data": {
      "text/plain": [
       "<AxesSubplot:ylabel='complaints'>"
      ]
     },
     "execution_count": 43,
     "metadata": {},
     "output_type": "execute_result"
    }
   ],
   "source": [
    "scenarios_info = pd.read_excel('scenarios_def_TR.xlsx')\n",
    "TR_cases = scenarios_info[scenarios_info.TR == 1]\n",
    "scenarios = TR_cases[\"ID\"].values\n",
    "time_range = pd.date_range(start='2019-01-01 00:15:00', end='2020-1-1 00:00:00', freq='15T')\n",
    "elect_cost = []\n",
    "complaints = []\n",
    "for i in scenarios:\n",
    "    df = pd.read_csv(\"Results_TR/Scenario_{}/diagnostic.csv\".format(i))\n",
    "    df[\"timestamp\"] = time_range\n",
    "    elect_cost.append(sum(df[\"cost\"]))\n",
    "    complaints.append(sum(df['hot_complaint'])+sum(df['cold_complaint']))\n",
    "#     complaints.append(sum(df['cold_complaint']))\n",
    "    \n",
    "df_plot = pd.DataFrame([elect_cost, complaints]).transpose()\n",
    "df_plot.columns=[\"cost\",\"complaints\"]\n",
    "fig, ax = plt.subplots(2, 1, figsize=(25,10))\n",
    "sns.barplot(data=df_plot,x=scenarios, y=\"cost\", ax=ax[0])  \n",
    "sns.barplot(data=df_plot,x=scenarios, y=\"complaints\", ax=ax[1])  "
   ]
  },
  {
   "cell_type": "code",
   "execution_count": 14,
   "id": "37e50316",
   "metadata": {},
   "outputs": [
    {
     "name": "stdout",
     "output_type": "stream",
     "text": [
      "<class 'pandas.core.frame.DataFrame'>\n",
      "RangeIndex: 288 entries, 0 to 287\n",
      "Data columns (total 2 columns):\n",
      " #   Column  Non-Null Count  Dtype\n",
      "---  ------  --------------  -----\n",
      " 0   old     288 non-null    int64\n",
      " 1   new     288 non-null    int64\n",
      "dtypes: int64(2)\n",
      "memory usage: 4.6 KB\n"
     ]
    }
   ],
   "source": [
    "# dont use again\n",
    "df = pd.read_excel(\"temp_index.xlsx\")\n",
    "df.info()\n",
    "# for i in range(288):\n",
    "    ## os.rename(\"Results_TR/Scenario_{}\".format(df.old[i]), \"Results_TR/Scenario_{}\".format(df.new[i]))\n"
   ]
  },
  {
   "cell_type": "code",
   "execution_count": null,
   "id": "27d66903",
   "metadata": {},
   "outputs": [],
   "source": []
  }
 ],
 "metadata": {
  "kernelspec": {
   "display_name": "Python 3 (ipykernel)",
   "language": "python",
   "name": "python3"
  },
  "language_info": {
   "codemirror_mode": {
    "name": "ipython",
    "version": 3
   },
   "file_extension": ".py",
   "mimetype": "text/x-python",
   "name": "python",
   "nbconvert_exporter": "python",
   "pygments_lexer": "ipython3",
   "version": "3.9.7"
  }
 },
 "nbformat": 4,
 "nbformat_minor": 5
}
